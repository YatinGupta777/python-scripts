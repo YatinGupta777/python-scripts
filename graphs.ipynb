{
 "cells": [
  {
   "cell_type": "code",
   "execution_count": 1,
   "metadata": {},
   "outputs": [
    {
     "name": "stdout",
     "output_type": "stream",
     "text": [
      "Requirement already satisfied: numpy in /opt/homebrew/lib/python3.11/site-packages (1.24.3)\n",
      "\n",
      "\u001b[1m[\u001b[0m\u001b[34;49mnotice\u001b[0m\u001b[1;39;49m]\u001b[0m\u001b[39;49m A new release of pip is available: \u001b[0m\u001b[31;49m23.0.1\u001b[0m\u001b[39;49m -> \u001b[0m\u001b[32;49m23.1.2\u001b[0m\n",
      "\u001b[1m[\u001b[0m\u001b[34;49mnotice\u001b[0m\u001b[1;39;49m]\u001b[0m\u001b[39;49m To update, run: \u001b[0m\u001b[32;49mpython3.11 -m pip install --upgrade pip\u001b[0m\n",
      "Note: you may need to restart the kernel to use updated packages.\n",
      "Requirement already satisfied: matplotlib in /opt/homebrew/lib/python3.11/site-packages (3.7.1)\n",
      "Requirement already satisfied: contourpy>=1.0.1 in /opt/homebrew/lib/python3.11/site-packages (from matplotlib) (1.0.7)\n",
      "Requirement already satisfied: cycler>=0.10 in /opt/homebrew/lib/python3.11/site-packages (from matplotlib) (0.11.0)\n",
      "Requirement already satisfied: fonttools>=4.22.0 in /opt/homebrew/lib/python3.11/site-packages (from matplotlib) (4.39.4)\n",
      "Requirement already satisfied: kiwisolver>=1.0.1 in /opt/homebrew/lib/python3.11/site-packages (from matplotlib) (1.4.4)\n",
      "Requirement already satisfied: numpy>=1.20 in /opt/homebrew/lib/python3.11/site-packages (from matplotlib) (1.24.3)\n",
      "Requirement already satisfied: packaging>=20.0 in /opt/homebrew/lib/python3.11/site-packages (from matplotlib) (23.0)\n",
      "Requirement already satisfied: pillow>=6.2.0 in /opt/homebrew/lib/python3.11/site-packages (from matplotlib) (9.5.0)\n",
      "Requirement already satisfied: pyparsing>=2.3.1 in /opt/homebrew/lib/python3.11/site-packages (from matplotlib) (3.0.9)\n",
      "Requirement already satisfied: python-dateutil>=2.7 in /opt/homebrew/lib/python3.11/site-packages (from matplotlib) (2.8.2)\n",
      "Requirement already satisfied: six>=1.5 in /opt/homebrew/lib/python3.11/site-packages (from python-dateutil>=2.7->matplotlib) (1.16.0)\n",
      "\n",
      "\u001b[1m[\u001b[0m\u001b[34;49mnotice\u001b[0m\u001b[1;39;49m]\u001b[0m\u001b[39;49m A new release of pip is available: \u001b[0m\u001b[31;49m23.0.1\u001b[0m\u001b[39;49m -> \u001b[0m\u001b[32;49m23.1.2\u001b[0m\n",
      "\u001b[1m[\u001b[0m\u001b[34;49mnotice\u001b[0m\u001b[1;39;49m]\u001b[0m\u001b[39;49m To update, run: \u001b[0m\u001b[32;49mpython3.11 -m pip install --upgrade pip\u001b[0m\n",
      "Note: you may need to restart the kernel to use updated packages.\n"
     ]
    }
   ],
   "source": [
    "%pip install numpy\n",
    "%pip install matplotlib"
   ]
  },
  {
   "cell_type": "code",
   "execution_count": 3,
   "metadata": {},
   "outputs": [
    {
     "name": "stderr",
     "output_type": "stream",
     "text": [
      "/var/folders/3x/0wljhxm92zggbn44wykp4r380000gn/T/ipykernel_64277/249213227.py:9: RuntimeWarning: divide by zero encountered in divide\n",
      "  t_bracket = ((1-t)**2)/ (t**2)\n",
      "/var/folders/3x/0wljhxm92zggbn44wykp4r380000gn/T/ipykernel_64277/249213227.py:10: RuntimeWarning: invalid value encountered in multiply\n",
      "  return 1/(1 + (k*rho*(sigma**2)*t_bracket))\n"
     ]
    },
    {
     "ename": "ValueError",
     "evalue": "x and y must have same first dimension, but have shapes (10,) and (1,)",
     "output_type": "error",
     "traceback": [
      "\u001b[0;31m---------------------------------------------------------------------------\u001b[0m",
      "\u001b[0;31mValueError\u001b[0m                                Traceback (most recent call last)",
      "Cell \u001b[0;32mIn[3], line 107\u001b[0m\n\u001b[1;32m    103\u001b[0m                 plt\u001b[38;5;241m.\u001b[39mshow()\n\u001b[1;32m    105\u001b[0m                 figure\u001b[38;5;241m.\u001b[39msavefig(pdf, \u001b[38;5;28mformat\u001b[39m\u001b[38;5;241m=\u001b[39m\u001b[38;5;124m'\u001b[39m\u001b[38;5;124mpdf\u001b[39m\u001b[38;5;124m'\u001b[39m)\n\u001b[0;32m--> 107\u001b[0m \u001b[43mmain\u001b[49m\u001b[43m(\u001b[49m\u001b[43m)\u001b[49m\n",
      "Cell \u001b[0;32mIn[3], line 98\u001b[0m, in \u001b[0;36mmain\u001b[0;34m()\u001b[0m\n\u001b[1;32m     96\u001b[0m \u001b[38;5;28;01mfor\u001b[39;00m key, value \u001b[38;5;129;01min\u001b[39;00m variables\u001b[38;5;241m.\u001b[39mitems():\n\u001b[1;32m     97\u001b[0m     variables[key] \u001b[38;5;241m=\u001b[39m np\u001b[38;5;241m.\u001b[39mlinspace(range_value_lower,range_value_upper,\u001b[38;5;241m10\u001b[39m)\n\u001b[0;32m---> 98\u001b[0m     \u001b[43maxis\u001b[49m\u001b[43m[\u001b[49m\u001b[43mcount\u001b[49m\u001b[38;5;241;43m%\u001b[39;49m\u001b[38;5;241;43m3\u001b[39;49m\u001b[43m,\u001b[49m\u001b[43m \u001b[49m\u001b[43mcount\u001b[49m\u001b[38;5;241;43m%\u001b[39;49m\u001b[38;5;241;43m2\u001b[39;49m\u001b[43m]\u001b[49m\u001b[38;5;241;43m.\u001b[39;49m\u001b[43mplot\u001b[49m\u001b[43m(\u001b[49m\u001b[43mvariables\u001b[49m\u001b[43m[\u001b[49m\u001b[43mkey\u001b[49m\u001b[43m]\u001b[49m\u001b[43m,\u001b[49m\u001b[43m \u001b[49m\u001b[43mf_name\u001b[49m\u001b[43m(\u001b[49m\u001b[43mvariables\u001b[49m\u001b[43m)\u001b[49m\u001b[43m,\u001b[49m\u001b[43m \u001b[49m\u001b[43mcolor\u001b[49m\u001b[38;5;241;43m=\u001b[39;49m\u001b[38;5;124;43m'\u001b[39;49m\u001b[38;5;124;43mred\u001b[39;49m\u001b[38;5;124;43m'\u001b[39;49m\u001b[43m)\u001b[49m\n\u001b[1;32m     99\u001b[0m     variables[key] \u001b[38;5;241m=\u001b[39m \u001b[38;5;241m0.5\u001b[39m\n\u001b[1;32m    100\u001b[0m     axis[count\u001b[38;5;241m%\u001b[39m\u001b[38;5;241m3\u001b[39m, count\u001b[38;5;241m%\u001b[39m\u001b[38;5;241m2\u001b[39m]\u001b[38;5;241m.\u001b[39mset(xlabel\u001b[38;5;241m=\u001b[39m\u001b[38;5;124mf\u001b[39m\u001b[38;5;124m\"\u001b[39m\u001b[38;5;124mVarying \u001b[39m\u001b[38;5;132;01m{\u001b[39;00mkey\u001b[38;5;132;01m}\u001b[39;00m\u001b[38;5;124m\"\u001b[39m, ylabel\u001b[38;5;241m=\u001b[39mlabels[idx])\n",
      "File \u001b[0;32m/opt/homebrew/lib/python3.11/site-packages/matplotlib/axes/_axes.py:1688\u001b[0m, in \u001b[0;36mAxes.plot\u001b[0;34m(self, scalex, scaley, data, *args, **kwargs)\u001b[0m\n\u001b[1;32m   1445\u001b[0m \u001b[39m\u001b[39m\u001b[39m\"\"\"\u001b[39;00m\n\u001b[1;32m   1446\u001b[0m \u001b[39mPlot y versus x as lines and/or markers.\u001b[39;00m\n\u001b[1;32m   1447\u001b[0m \n\u001b[0;32m   (...)\u001b[0m\n\u001b[1;32m   1685\u001b[0m \u001b[39m(``'green'``) or hex strings (``'#008000'``).\u001b[39;00m\n\u001b[1;32m   1686\u001b[0m \u001b[39m\"\"\"\u001b[39;00m\n\u001b[1;32m   1687\u001b[0m kwargs \u001b[39m=\u001b[39m cbook\u001b[39m.\u001b[39mnormalize_kwargs(kwargs, mlines\u001b[39m.\u001b[39mLine2D)\n\u001b[0;32m-> 1688\u001b[0m lines \u001b[39m=\u001b[39m [\u001b[39m*\u001b[39m\u001b[39mself\u001b[39m\u001b[39m.\u001b[39m_get_lines(\u001b[39m*\u001b[39margs, data\u001b[39m=\u001b[39mdata, \u001b[39m*\u001b[39m\u001b[39m*\u001b[39mkwargs)]\n\u001b[1;32m   1689\u001b[0m \u001b[39mfor\u001b[39;00m line \u001b[39min\u001b[39;00m lines:\n\u001b[1;32m   1690\u001b[0m     \u001b[39mself\u001b[39m\u001b[39m.\u001b[39madd_line(line)\n",
      "File \u001b[0;32m/opt/homebrew/lib/python3.11/site-packages/matplotlib/axes/_base.py:311\u001b[0m, in \u001b[0;36m_process_plot_var_args.__call__\u001b[0;34m(self, data, *args, **kwargs)\u001b[0m\n\u001b[1;32m    309\u001b[0m     this \u001b[39m+\u001b[39m\u001b[39m=\u001b[39m args[\u001b[39m0\u001b[39m],\n\u001b[1;32m    310\u001b[0m     args \u001b[39m=\u001b[39m args[\u001b[39m1\u001b[39m:]\n\u001b[0;32m--> 311\u001b[0m \u001b[39myield from\u001b[39;00m \u001b[39mself\u001b[39;49m\u001b[39m.\u001b[39;49m_plot_args(\n\u001b[1;32m    312\u001b[0m     this, kwargs, ambiguous_fmt_datakey\u001b[39m=\u001b[39;49mambiguous_fmt_datakey)\n",
      "File \u001b[0;32m/opt/homebrew/lib/python3.11/site-packages/matplotlib/axes/_base.py:504\u001b[0m, in \u001b[0;36m_process_plot_var_args._plot_args\u001b[0;34m(self, tup, kwargs, return_kwargs, ambiguous_fmt_datakey)\u001b[0m\n\u001b[1;32m    501\u001b[0m     \u001b[39mself\u001b[39m\u001b[39m.\u001b[39maxes\u001b[39m.\u001b[39myaxis\u001b[39m.\u001b[39mupdate_units(y)\n\u001b[1;32m    503\u001b[0m \u001b[39mif\u001b[39;00m x\u001b[39m.\u001b[39mshape[\u001b[39m0\u001b[39m] \u001b[39m!=\u001b[39m y\u001b[39m.\u001b[39mshape[\u001b[39m0\u001b[39m]:\n\u001b[0;32m--> 504\u001b[0m     \u001b[39mraise\u001b[39;00m \u001b[39mValueError\u001b[39;00m(\u001b[39mf\u001b[39m\u001b[39m\"\u001b[39m\u001b[39mx and y must have same first dimension, but \u001b[39m\u001b[39m\"\u001b[39m\n\u001b[1;32m    505\u001b[0m                      \u001b[39mf\u001b[39m\u001b[39m\"\u001b[39m\u001b[39mhave shapes \u001b[39m\u001b[39m{\u001b[39;00mx\u001b[39m.\u001b[39mshape\u001b[39m}\u001b[39;00m\u001b[39m and \u001b[39m\u001b[39m{\u001b[39;00my\u001b[39m.\u001b[39mshape\u001b[39m}\u001b[39;00m\u001b[39m\"\u001b[39m)\n\u001b[1;32m    506\u001b[0m \u001b[39mif\u001b[39;00m x\u001b[39m.\u001b[39mndim \u001b[39m>\u001b[39m \u001b[39m2\u001b[39m \u001b[39mor\u001b[39;00m y\u001b[39m.\u001b[39mndim \u001b[39m>\u001b[39m \u001b[39m2\u001b[39m:\n\u001b[1;32m    507\u001b[0m     \u001b[39mraise\u001b[39;00m \u001b[39mValueError\u001b[39;00m(\u001b[39mf\u001b[39m\u001b[39m\"\u001b[39m\u001b[39mx and y can be no greater than 2D, but have \u001b[39m\u001b[39m\"\u001b[39m\n\u001b[1;32m    508\u001b[0m                      \u001b[39mf\u001b[39m\u001b[39m\"\u001b[39m\u001b[39mshapes \u001b[39m\u001b[39m{\u001b[39;00mx\u001b[39m.\u001b[39mshape\u001b[39m}\u001b[39;00m\u001b[39m and \u001b[39m\u001b[39m{\u001b[39;00my\u001b[39m.\u001b[39mshape\u001b[39m}\u001b[39;00m\u001b[39m\"\u001b[39m)\n",
      "\u001b[0;31mValueError\u001b[0m: x and y must have same first dimension, but have shapes (10,) and (1,)"
     ]
    },
    {
     "data": {
      "image/png": "[encoded data removed]",
      "text/plain": [
       "<Figure size 750x350 with 6 Axes>"
      ]
     },
     "metadata": {},
     "output_type": "display_data"
    }
   ],
   "source": [
    "import numpy as np\n",
    "from matplotlib import pyplot as plt\n",
    "from matplotlib.backends.backend_pdf import PdfPages\n",
    "\n",
    "plt.rcParams[\"figure.figsize\"] = [7.50, 3.50]\n",
    "plt.rcParams[\"figure.autolayout\"] = True\n",
    "\n",
    "def cal_beta_star(t,k,rho,sigma):\n",
    "   t_bracket = ((1-t)**2)/ (t**2) \n",
    "   return 1/(1 + (k*rho*(sigma**2)*t_bracket))\n",
    "\n",
    "def cal_beta_hat(t,k,rho, sigma,r,c):\n",
    "    beta_star = cal_beta_star(t,k,rho,sigma)\n",
    "    numerator = (((1-t)**2 * beta_star * k) + (t**2) * (beta_star**2) * c)\n",
    "    den1 = (r*c*k*(sigma**2)) * ((1-t)**2)\n",
    "    den2 = ((1-t)**2) * k\n",
    "    den3 = (beta_star**2)*c*k*((t**2) + rho*(sigma**2)*((1-t)**2))\n",
    "    denominator = den1 + den2 + den3\n",
    "    return numerator/denominator\n",
    "\n",
    "#Beta Star\n",
    "def f1(variables):\n",
    "   t = variables[\"t\"]\n",
    "   k = variables[\"k\"]\n",
    "   rho = variables[\"rho\"]\n",
    "   sigma = variables[\"sigma\"]\n",
    "   return cal_beta_star(t,k,rho, sigma)\n",
    "\n",
    "#R^\n",
    "def f2(variables):\n",
    "   t = variables[\"t\"]\n",
    "   k = variables[\"k\"]\n",
    "   c = variables[\"c\"]\n",
    "   r = variables[\"r\"]\n",
    "   rho = variables[\"rho\"]\n",
    "   sigma = variables[\"sigma\"]\n",
    "   return cal_beta_hat(t,k,rho, sigma,r,c)\n",
    "\n",
    "#Beta Hat\n",
    "def f3(variables):\n",
    "    t = variables[\"t\"]\n",
    "    k = variables[\"k\"]\n",
    "    c = variables[\"c\"]\n",
    "    r = variables[\"r\"]\n",
    "    rho = variables[\"rho\"]\n",
    "    sigma = variables[\"sigma\"]\n",
    "    beta_hat =  cal_beta_hat(t,k,rho, sigma,r,c)\n",
    "    return (beta_hat*t)/c\n",
    "\n",
    "#little b^\n",
    "def f4(variables):\n",
    "    t = variables[\"t\"]\n",
    "    k = variables[\"k\"]\n",
    "    c = variables[\"c\"]\n",
    "    r = variables[\"r\"]\n",
    "    rho = variables[\"rho\"]\n",
    "    sigma = variables[\"sigma\"]\n",
    "    beta_star = cal_beta_star(t,k,rho,sigma)\n",
    "    numerator = (((1-t)**2)*k) + ((t**2)*beta_star*c)\n",
    "    den1 = (r*c*k*(sigma**2)*((1-t)**2))\n",
    "    den2 = ((1-t)**2)*c\n",
    "    den3 = (beta_star**2)*c*k*((t**2)+(rho*(sigma**2)*((1-t)**2)))\n",
    "    return numerator/(den1+den2+den3)\n",
    "\n",
    "\n",
    "def main():\n",
    "    with PdfPages(\"graphs.pdf\") as pdf:\n",
    "        fixed_value_lower = float(input(\"Enter Fixed value lower threshold : \") or \"0\")\n",
    "        fixed_value_upper = float(input(\"Enter Fixed value upper threshold : \") or \"1\")\n",
    "        freq = float(input(\"Enter Fixed value frequency : \") or \"0.25\")\n",
    "        range_value_lower = float(input(\"Enter range value lower threshold : \") or \"0\")\n",
    "        range_value_upper = float(input(\"Enter range value upper threshold : \") or \"1\")\n",
    "\n",
    "        intial_values = []\n",
    "        start = fixed_value_lower\n",
    "        while start <= fixed_value_upper:\n",
    "            intial_values.append(start)\n",
    "            start = round(start + freq,2)\n",
    "        \n",
    "        functions = [f1, f2, f3, f4]\n",
    "        labels = [\"Beta*\", \"Beta^\", \"R^\", \"b^\"]\n",
    "        #Way to define custom variables\n",
    "        functions_variables = {\n",
    "            \"Beta*\" : [\"t\", \"k\", \"rho\", \"sigma\"]\n",
    "        }\n",
    "        for idx, f_name in enumerate(functions):\n",
    "            for i_value in intial_values:\n",
    "                if labels[idx] in functions_variables:\n",
    "                    variable_names = functions_variables[labels[idx]]\n",
    "                else: variable_names = [\"t\", \"k\", \"c\", \"r\", \"rho\", \"sigma\"]\n",
    "                variables = {}\n",
    "                for name in variable_names:\n",
    "                    variables[name] = i_value\n",
    "                figure, axis = plt.subplots(3, 2)\n",
    "                count = 0\n",
    "                for key, value in variables.items():\n",
    "                    variables[key] = np.linspace(range_value_lower,range_value_upper,10)\n",
    "                    axis[count%3, count%2].plot(variables[key], f_name(variables), color='red')\n",
    "                    variables[key] = 0.5\n",
    "                    axis[count%3, count%2].set(xlabel=f\"Varying {key}\", ylabel=labels[idx])\n",
    "                    count +=1\n",
    "                figure.suptitle(f\"Fixed value: {i_value}\")\n",
    "                plt.show()\n",
    "                \n",
    "                figure.savefig(pdf, format='pdf')\n",
    "\n",
    "main()"
   ]
  }
 ],
 "metadata": {
  "kernelspec": {
   "display_name": "Python 3.11.3 64-bit",
   "language": "python",
   "name": "python3"
  },
  "language_info": {
   "codemirror_mode": {
    "name": "ipython",
    "version": 3
   },
   "file_extension": ".py",
   "mimetype": "text/x-python",
   "name": "python",
   "nbconvert_exporter": "python",
   "pygments_lexer": "ipython3",
   "version": "3.11.3"
  },
  "orig_nbformat": 4,
  "vscode": {
   "interpreter": {
    "hash": "b0fa6594d8f4cbf19f97940f81e996739fb7646882a419484c72d19e05852a7e"
   }
  }
 },
 "nbformat": 4,
 "nbformat_minor": 2
}
